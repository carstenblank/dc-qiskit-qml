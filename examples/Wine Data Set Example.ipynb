{
 "cells": [
  {
   "cell_type": "code",
   "execution_count": 1,
   "metadata": {},
   "outputs": [],
   "source": [
    "import qiskit\n",
    "from qiskit.backends import BaseBackend\n",
    "from qiskit.backends.ibmq import IBMQBackend"
   ]
  },
  {
   "cell_type": "code",
   "execution_count": 2,
   "metadata": {},
   "outputs": [],
   "source": [
    "import numpy as np\n",
    "\n",
    "from sklearn.preprocessing import StandardScaler, Normalizer\n",
    "from sklearn.pipeline import Pipeline\n",
    "from sklearn.datasets import load_wine\n",
    "from sklearn.decomposition import PCA\n",
    "\n",
    "X, y = load_wine(True)\n",
    "\n",
    "preprocessing_pipeline = Pipeline([\n",
    "    ('scaler',  StandardScaler()),\n",
    "    ('pca2',  PCA(n_components=2)),\n",
    "    ('l2norm', Normalizer(norm='l2', copy=True))\n",
    "])\n",
    "X = preprocessing_pipeline.fit_transform(X, y)\n",
    "\n",
    "X_train = X[[33, 88, 144]]\n",
    "y_train = y[[33, 88, 144]]\n",
    "\n",
    "X_test = X[[28, 140]]\n",
    "y_test = y[[28, 140]]"
   ]
  },
  {
   "cell_type": "code",
   "execution_count": 4,
   "metadata": {},
   "outputs": [
    {
     "data": {
      "image/png": "[encoded data removed]",
      "text/plain": [
       "<matplotlib.figure.Figure at 0x1eef2a55ba8>"
      ]
     },
     "metadata": {},
     "output_type": "display_data"
    }
   ],
   "source": [
    "import matplotlib.pyplot as plt\n",
    "\n",
    "colors = ['red', 'blue', 'green', 'orange']\n",
    "\n",
    "plt.scatter(\n",
    "    X[:,0], X[:,1], \n",
    "    color=[colors[yy] for yy in y])\n",
    "plt.scatter(\n",
    "    X_train[:,0], X_train[:,1], \n",
    "    color=[colors[yy] for yy in y_train],\n",
    "    marker='x', s=200)\n",
    "plt.scatter(\n",
    "    X_test[:,0], X_test[:,1], \n",
    "    color=[colors[yy] for yy in y_test],\n",
    "    marker='o', s=200)\n",
    "plt.show()"
   ]
  },
  {
   "cell_type": "code",
   "execution_count": 5,
   "metadata": {},
   "outputs": [
    {
     "data": {
      "text/plain": [
       "array([[ 0.75882634, -0.65129301],\n",
       "       [-0.5261616 ,  0.8503846 ],\n",
       "       [-0.88541883, -0.46479404]])"
      ]
     },
     "execution_count": 5,
     "metadata": {},
     "output_type": "execute_result"
    }
   ],
   "source": [
    "X_train"
   ]
  },
  {
   "cell_type": "code",
   "execution_count": 6,
   "metadata": {},
   "outputs": [
    {
     "data": {
      "text/plain": [
       "array([0, 1, 2])"
      ]
     },
     "execution_count": 6,
     "metadata": {},
     "output_type": "execute_result"
    }
   ],
   "source": [
    "y_train"
   ]
  },
  {
   "cell_type": "code",
   "execution_count": 7,
   "metadata": {},
   "outputs": [
    {
     "data": {
      "text/plain": [
       "array([[ 0.95377096, -0.30053444],\n",
       "       [-0.99471589, -0.10266591]])"
      ]
     },
     "execution_count": 7,
     "metadata": {},
     "output_type": "execute_result"
    }
   ],
   "source": [
    "X_test"
   ]
  },
  {
   "cell_type": "code",
   "execution_count": 8,
   "metadata": {},
   "outputs": [
    {
     "data": {
      "text/plain": [
       "array([0, 2])"
      ]
     },
     "execution_count": 8,
     "metadata": {},
     "output_type": "execute_result"
    }
   ],
   "source": [
    "y_test"
   ]
  },
  {
   "cell_type": "code",
   "execution_count": 9,
   "metadata": {},
   "outputs": [],
   "source": [
    "from qiskit_qml.feature_maps import NormedAmplitudeEncoding\n",
    "from qiskit_qml.distance_based.hadamard import QmlHadamardNeighborClassifier\n",
    "from qiskit_qml.distance_based.hadamard.state import QmlGenericStateCircuitBuilder\n",
    "from qiskit_qml.distance_based.hadamard.state.sparsevector import MöttönenStatePreparation\n",
    "\n",
    "initial_state_builder = QmlGenericStateCircuitBuilder(MöttönenStatePreparation())\n",
    "\n",
    "execution_backend: BaseBackend = qiskit.Aer.get_backend('qasm_simulator')\n",
    "qml = QmlHadamardNeighborClassifier(backend=execution_backend,\n",
    "                                    shots=8192, \n",
    "                                    classifier_state_factory=initial_state_builder,\n",
    "                                    feature_map=NormedAmplitudeEncoding())"
   ]
  },
  {
   "cell_type": "code",
   "execution_count": 10,
   "metadata": {},
   "outputs": [],
   "source": [
    "qml.fit(X_train, y_train)"
   ]
  },
  {
   "cell_type": "code",
   "execution_count": 11,
   "metadata": {},
   "outputs": [
    {
     "data": {
      "text/plain": [
       "([0, 2], array([0, 2]))"
      ]
     },
     "execution_count": 11,
     "metadata": {},
     "output_type": "execute_result"
    }
   ],
   "source": [
    "qml.predict(X_test), y_test"
   ]
  },
  {
   "cell_type": "code",
   "execution_count": 12,
   "metadata": {},
   "outputs": [
    {
     "name": "stdout",
     "output_type": "stream",
     "text": [
      "OPENQASM 2.0;\n",
      "include \"qelib1.inc\";\n",
      "qreg ancilla[1];\n",
      "qreg index[2];\n",
      "qreg data[1];\n",
      "qreg qlabel[2];\n",
      "creg clabel[2];\n",
      "creg branch[1];\n",
      "ry(1.23095941734077) qlabel[1];\n",
      "cx qlabel[1],qlabel[0];\n",
      "ry(0.785398163397448) qlabel[0];\n",
      "cx qlabel[1],qlabel[0];\n",
      "ry(0.785398163397448) qlabel[0];\n",
      "cx qlabel[1],data[0];\n",
      "ry(0.410694814944012) data[0];\n",
      "cx qlabel[0],data[0];\n",
      "ry(-0.280891372620302) data[0];\n",
      "cx qlabel[1],data[0];\n",
      "ry(0.121237872372082) data[0];\n",
      "cx qlabel[0],data[0];\n",
      "ry(0.812824059936397) data[0];\n",
      "cx qlabel[1],index[1];\n",
      "ry(-0.785398163397448) index[1];\n",
      "cx data[0],index[1];\n",
      "ry(0) index[1];\n",
      "cx qlabel[0],index[1];\n",
      "ry(0) index[1];\n",
      "cx data[0],index[1];\n",
      "ry(-0.785398163397448) index[1];\n",
      "cx qlabel[1],index[1];\n",
      "ry(0.785398163397448) index[1];\n",
      "cx data[0],index[1];\n",
      "ry(0) index[1];\n",
      "cx qlabel[0],index[1];\n",
      "ry(0) index[1];\n",
      "cx data[0],index[1];\n",
      "ry(0.785398163397448) index[1];\n",
      "cx qlabel[1],index[0];\n",
      "ry(0.392699081698724) index[0];\n",
      "cx index[1],index[0];\n",
      "ry(0.392699081698724) index[0];\n",
      "cx data[0],index[0];\n",
      "ry(0) index[0];\n",
      "cx index[1],index[0];\n",
      "ry(0) index[0];\n",
      "cx qlabel[0],index[0];\n",
      "ry(0) index[0];\n",
      "cx index[1],index[0];\n",
      "ry(0) index[0];\n",
      "cx data[0],index[0];\n",
      "ry(-0.392699081698724) index[0];\n",
      "cx index[1],index[0];\n",
      "ry(-0.392699081698724) index[0];\n",
      "cx qlabel[1],index[0];\n",
      "ry(-0.392699081698724) index[0];\n",
      "cx index[1],index[0];\n",
      "ry(-0.392699081698724) index[0];\n",
      "cx data[0],index[0];\n",
      "ry(0) index[0];\n",
      "cx index[1],index[0];\n",
      "ry(0) index[0];\n",
      "cx qlabel[0],index[0];\n",
      "ry(0) index[0];\n",
      "cx index[1],index[0];\n",
      "ry(0) index[0];\n",
      "cx data[0],index[0];\n",
      "ry(0.392699081698724) index[0];\n",
      "cx index[1],index[0];\n",
      "ry(0.392699081698724) index[0];\n",
      "cx qlabel[1],ancilla[0];\n",
      "ry(0.112541418597276) ancilla[0];\n",
      "cx index[0],ancilla[0];\n",
      "ry(-0.104359470424336) ancilla[0];\n",
      "cx index[1],ancilla[0];\n",
      "ry(0.113774038671354) ancilla[0];\n",
      "cx index[0],ancilla[0];\n",
      "ry(0.330674927692967) ancilla[0];\n",
      "cx data[0],ancilla[0];\n",
      "ry(-0.0901214959546295) ancilla[0];\n",
      "cx index[0],ancilla[0];\n",
      "ry(0.000749329848026017) ancilla[0];\n",
      "cx index[1],ancilla[0];\n",
      "ry(0.0318200900900771) ancilla[0];\n",
      "cx index[0],ancilla[0];\n",
      "ry(-0.0590507357125784) ancilla[0];\n",
      "cx qlabel[0],ancilla[0];\n",
      "ry(0.0318200900900771) ancilla[0];\n",
      "cx index[0],ancilla[0];\n",
      "ry(-0.0590507357125784) ancilla[0];\n",
      "cx index[1],ancilla[0];\n",
      "ry(-0.0901214959546295) ancilla[0];\n",
      "cx index[0],ancilla[0];\n",
      "ry(0.000749329848026017) ancilla[0];\n",
      "cx data[0],ancilla[0];\n",
      "ry(0.113774038671354) ancilla[0];\n",
      "cx index[0],ancilla[0];\n",
      "ry(0.330674927692967) ancilla[0];\n",
      "cx index[1],ancilla[0];\n",
      "ry(0.112541418597276) ancilla[0];\n",
      "cx index[0],ancilla[0];\n",
      "ry(-0.104359470424336) ancilla[0];\n",
      "cx qlabel[1],ancilla[0];\n",
      "ry(0.113774038671354) ancilla[0];\n",
      "cx index[0],ancilla[0];\n",
      "ry(0.330674927692967) ancilla[0];\n",
      "cx index[1],ancilla[0];\n",
      "ry(0.112541418597276) ancilla[0];\n",
      "cx index[0],ancilla[0];\n",
      "ry(-0.104359470424336) ancilla[0];\n",
      "cx data[0],ancilla[0];\n",
      "ry(0.0318200900900771) ancilla[0];\n",
      "cx index[0],ancilla[0];\n",
      "ry(-0.0590507357125784) ancilla[0];\n",
      "cx index[1],ancilla[0];\n",
      "ry(-0.0901214959546295) ancilla[0];\n",
      "cx index[0],ancilla[0];\n",
      "ry(0.000749329848026017) ancilla[0];\n",
      "cx qlabel[0],ancilla[0];\n",
      "ry(-0.0901214959546295) ancilla[0];\n",
      "cx index[0],ancilla[0];\n",
      "ry(0.000749329848026017) ancilla[0];\n",
      "cx index[1],ancilla[0];\n",
      "ry(0.0318200900900771) ancilla[0];\n",
      "cx index[0],ancilla[0];\n",
      "ry(-0.0590507357125784) ancilla[0];\n",
      "cx data[0],ancilla[0];\n",
      "ry(0.112541418597276) ancilla[0];\n",
      "cx index[0],ancilla[0];\n",
      "ry(-0.104359470424336) ancilla[0];\n",
      "cx index[1],ancilla[0];\n",
      "ry(0.113774038671354) ancilla[0];\n",
      "cx index[0],ancilla[0];\n",
      "ry(0.330674927692967) ancilla[0];\n",
      "rz(-0.0981747704246810) qlabel[1];\n",
      "cx qlabel[1],qlabel[0];\n",
      "rz(0.294524311274043) qlabel[0];\n",
      "cx qlabel[1],qlabel[0];\n",
      "rz(-0.294524311274043) qlabel[0];\n",
      "cx qlabel[1],data[0];\n",
      "rz(0.0981747704246810) data[0];\n",
      "cx qlabel[0],data[0];\n",
      "rz(0.0981747704246810) data[0];\n",
      "cx qlabel[1],data[0];\n",
      "rz(0.294524311274043) data[0];\n",
      "cx qlabel[0],data[0];\n",
      "rz(0.294524311274043) data[0];\n",
      "cx qlabel[1],index[1];\n",
      "rz(-0.687223392972767) index[1];\n",
      "cx data[0],index[1];\n",
      "rz(0.294524311274043) index[1];\n",
      "cx qlabel[0],index[1];\n",
      "rz(0.294524311274043) index[1];\n",
      "cx data[0],index[1];\n",
      "rz(-0.294524311274043) index[1];\n",
      "cx qlabel[1],index[1];\n",
      "rz(0.294524311274043) index[1];\n",
      "cx data[0],index[1];\n",
      "rz(0.0981747704246810) index[1];\n",
      "cx qlabel[0],index[1];\n",
      "rz(0.0981747704246810) index[1];\n",
      "cx data[0],index[1];\n",
      "rz(-0.0981747704246810) index[1];\n",
      "cx qlabel[1],index[0];\n",
      "rz(0.294524311274043) index[0];\n",
      "cx index[1],index[0];\n",
      "rz(-0.294524311274043) index[0];\n",
      "cx data[0],index[0];\n",
      "rz(0.294524311274043) index[0];\n",
      "cx index[1],index[0];\n",
      "rz(0.0981747704246810) index[0];\n",
      "cx qlabel[0],index[0];\n",
      "rz(0.0981747704246810) index[0];\n",
      "cx index[1],index[0];\n",
      "rz(0.294524311274043) index[0];\n",
      "cx data[0],index[0];\n",
      "rz(-0.687223392972767) index[0];\n",
      "cx index[1],index[0];\n",
      "rz(-0.0981747704246810) index[0];\n",
      "cx qlabel[1],index[0];\n",
      "rz(-0.687223392972767) index[0];\n",
      "cx index[1],index[0];\n",
      "rz(-0.0981747704246810) index[0];\n",
      "cx data[0],index[0];\n",
      "rz(0.0981747704246810) index[0];\n",
      "cx index[1],index[0];\n",
      "rz(0.294524311274043) index[0];\n",
      "cx qlabel[0],index[0];\n",
      "rz(0.294524311274043) index[0];\n",
      "cx index[1],index[0];\n",
      "rz(0.0981747704246810) index[0];\n",
      "cx data[0],index[0];\n",
      "rz(0.294524311274043) index[0];\n",
      "cx index[1],index[0];\n",
      "rz(-0.294524311274043) index[0];\n",
      "cx qlabel[1],ancilla[0];\n",
      "rz(-0.0981747704246810) ancilla[0];\n",
      "cx index[0],ancilla[0];\n",
      "rz(-0.0981747704246810) ancilla[0];\n",
      "cx index[1],ancilla[0];\n",
      "rz(0.0981747704246810) ancilla[0];\n",
      "cx index[0],ancilla[0];\n",
      "rz(0.0981747704246810) ancilla[0];\n",
      "cx data[0],ancilla[0];\n",
      "rz(0.294524311274043) ancilla[0];\n",
      "cx index[0],ancilla[0];\n",
      "rz(-0.0981747704246810) ancilla[0];\n",
      "cx index[1],ancilla[0];\n",
      "rz(-0.294524311274043) ancilla[0];\n",
      "cx index[0],ancilla[0];\n",
      "rz(0.0981747704246810) ancilla[0];\n",
      "cx qlabel[0],ancilla[0];\n",
      "rz(-0.294524311274043) ancilla[0];\n",
      "cx index[0],ancilla[0];\n",
      "rz(0.0981747704246810) ancilla[0];\n",
      "cx index[1],ancilla[0];\n",
      "rz(0.294524311274043) ancilla[0];\n",
      "cx index[0],ancilla[0];\n",
      "rz(-0.0981747704246810) ancilla[0];\n",
      "cx data[0],ancilla[0];\n",
      "rz(0.0981747704246810) ancilla[0];\n",
      "cx index[0],ancilla[0];\n",
      "rz(0.0981747704246810) ancilla[0];\n",
      "cx index[1],ancilla[0];\n",
      "rz(-0.0981747704246810) ancilla[0];\n",
      "cx index[0],ancilla[0];\n",
      "rz(-0.0981747704246810) ancilla[0];\n",
      "cx qlabel[1],ancilla[0];\n",
      "rz(0.0981747704246810) ancilla[0];\n",
      "cx index[0],ancilla[0];\n",
      "rz(0.0981747704246810) ancilla[0];\n",
      "cx index[1],ancilla[0];\n",
      "rz(-0.0981747704246810) ancilla[0];\n",
      "cx index[0],ancilla[0];\n",
      "rz(-0.0981747704246810) ancilla[0];\n",
      "cx data[0],ancilla[0];\n",
      "rz(-0.294524311274043) ancilla[0];\n",
      "cx index[0],ancilla[0];\n",
      "rz(0.0981747704246810) ancilla[0];\n",
      "cx index[1],ancilla[0];\n",
      "rz(0.294524311274043) ancilla[0];\n",
      "cx index[0],ancilla[0];\n",
      "rz(-0.0981747704246810) ancilla[0];\n",
      "cx qlabel[0],ancilla[0];\n",
      "rz(0.294524311274043) ancilla[0];\n",
      "cx index[0],ancilla[0];\n",
      "rz(-0.0981747704246810) ancilla[0];\n",
      "cx index[1],ancilla[0];\n",
      "rz(-0.294524311274043) ancilla[0];\n",
      "cx index[0],ancilla[0];\n",
      "rz(0.0981747704246810) ancilla[0];\n",
      "cx data[0],ancilla[0];\n",
      "rz(-0.0981747704246810) ancilla[0];\n",
      "cx index[0],ancilla[0];\n",
      "rz(-0.0981747704246810) ancilla[0];\n",
      "cx index[1],ancilla[0];\n",
      "rz(0.0981747704246810) ancilla[0];\n",
      "cx index[0],ancilla[0];\n",
      "rz(0.0981747704246810) ancilla[0];\n",
      "h ancilla[0];\n",
      "barrier ancilla[0],index[0],index[1],data[0],qlabel[0],qlabel[1];\n",
      "measure ancilla[0] -> branch[0];\n",
      "measure qlabel[0] -> clabel[0];\n",
      "measure qlabel[1] -> clabel[1];\n",
      "\n"
     ]
    }
   ],
   "source": [
    "print(qml._last_predict_circuits[0].qasm())"
   ]
  }
 ],
 "metadata": {
  "kernelspec": {
   "display_name": "Python 3",
   "language": "python",
   "name": "python3"
  },
  "language_info": {
   "codemirror_mode": {
    "name": "ipython",
    "version": 3
   },
   "file_extension": ".py",
   "mimetype": "text/x-python",
   "name": "python",
   "nbconvert_exporter": "python",
   "pygments_lexer": "ipython3",
   "version": "3.6.4"
  }
 },
 "nbformat": 4,
 "nbformat_minor": 2
}
