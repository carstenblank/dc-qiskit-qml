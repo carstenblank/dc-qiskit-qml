{
 "cells": [
  {
   "cell_type": "code",
   "execution_count": 1,
   "metadata": {
    "ExecuteTime": {
     "end_time": "2023-12-01T13:16:43.561480600Z",
     "start_time": "2023-12-01T13:16:41.268424900Z"
    }
   },
   "outputs": [],
   "source": [
    "import qiskit\n",
    "from qiskit_aer.backends.aerbackend import AerBackend"
   ]
  },
  {
   "cell_type": "code",
   "execution_count": 2,
   "metadata": {
    "ExecuteTime": {
     "end_time": "2023-12-01T13:16:44.755580Z",
     "start_time": "2023-12-01T13:16:43.525304100Z"
    }
   },
   "outputs": [],
   "source": [
    "from dc_qiskit_qml.encoding_maps import NormedAmplitudeEncoding\n",
    "from dc_qiskit_qml.distance_based.hadamard import QmlHadamardNeighborClassifier\n",
    "from dc_qiskit_qml.distance_based.hadamard.state import QmlGenericStateCircuitBuilder\n",
    "from dc_qiskit_qml.distance_based.hadamard.state.sparsevector import MottonenStatePreparation\n",
    "\n",
    "initial_state_builder = QmlGenericStateCircuitBuilder(MottonenStatePreparation())\n",
    "\n",
    "execution_backend: AerBackend = qiskit.Aer.get_backend('qasm_simulator')\n",
    "qml = QmlHadamardNeighborClassifier(backend=execution_backend,\n",
    "                                    shots=8192, \n",
    "                                    classifier_circuit_factory=initial_state_builder,\n",
    "                                    encoding_map=NormedAmplitudeEncoding())"
   ]
  },
  {
   "cell_type": "code",
   "execution_count": 3,
   "metadata": {
    "ExecuteTime": {
     "end_time": "2023-12-01T13:16:46.546631Z",
     "start_time": "2023-12-01T13:16:46.355550100Z"
    }
   },
   "outputs": [],
   "source": [
    "from sklearn.preprocessing import StandardScaler, Normalizer\n",
    "from sklearn.pipeline import Pipeline\n",
    "from sklearn.datasets import load_wine\n",
    "\n",
    "X, y = load_wine(return_X_y=True)"
   ]
  },
  {
   "cell_type": "code",
   "execution_count": 4,
   "metadata": {
    "ExecuteTime": {
     "end_time": "2023-12-01T13:16:47.865425400Z",
     "start_time": "2023-12-01T13:16:47.788119400Z"
    }
   },
   "outputs": [],
   "source": [
    "from sklearn.model_selection import train_test_split\n",
    "\n",
    "X_train, X_test, y_train, y_test = train_test_split(X, y, test_size=0.10, random_state=42)"
   ]
  },
  {
   "cell_type": "code",
   "execution_count": 5,
   "metadata": {
    "ExecuteTime": {
     "end_time": "2023-12-01T13:16:48.780712800Z",
     "start_time": "2023-12-01T13:16:48.749109100Z"
    }
   },
   "outputs": [],
   "source": [
    "pipeline = Pipeline([\n",
    "    ('scaler',  StandardScaler()),\n",
    "    ('l2norm', Normalizer(norm='l2', copy=True)),\n",
    "    ('qml', qml)\n",
    "])"
   ]
  },
  {
   "cell_type": "code",
   "execution_count": null,
   "metadata": {
    "is_executing": true,
    "ExecuteTime": {
     "start_time": "2023-12-01T13:16:49.924502600Z"
    }
   },
   "outputs": [],
   "source": [
    "pipeline.fit(X_train, y_train)\n",
    "prediction = pipeline.predict(X_test)"
   ]
  },
  {
   "cell_type": "code",
   "execution_count": null,
   "metadata": {
    "is_executing": true
   },
   "outputs": [],
   "source": [
    "prediction"
   ]
  },
  {
   "cell_type": "markdown",
   "metadata": {},
   "source": [
    "## Accuracy"
   ]
  },
  {
   "cell_type": "code",
   "execution_count": null,
   "metadata": {
    "is_executing": true
   },
   "outputs": [],
   "source": [
    "\"Test Accuracy: {}\".format(\n",
    "    sum([1 if p == t else 0 for p, t in zip(prediction, y_test)])/len(prediction)\n",
    ")"
   ]
  },
  {
   "cell_type": "code",
   "execution_count": null,
   "metadata": {
    "is_executing": true
   },
   "outputs": [],
   "source": [
    "prediction_train = pipeline.predict(X_train)"
   ]
  },
  {
   "cell_type": "code",
   "execution_count": null,
   "metadata": {
    "is_executing": true
   },
   "outputs": [],
   "source": [
    "\"Train Accuracy: {}\".format(\n",
    "    sum([1 if p == t else 0 for p, t in zip(prediction_train, y_train)])/len(prediction_train)\n",
    ")"
   ]
  },
  {
   "cell_type": "markdown",
   "metadata": {},
   "source": [
    "## Other"
   ]
  },
  {
   "cell_type": "code",
   "execution_count": null,
   "metadata": {
    "is_executing": true
   },
   "outputs": [],
   "source": [
    "import matplotlib.pyplot as plt\n",
    "\n",
    "colors = ['red', 'blue', 'green', 'orange']\n",
    "\n",
    "plt.scatter(\n",
    "    pipeline.transform(X_train[:,0]), pipeline.transform(X_train[:,1]), \n",
    "    color=[colors[yy] for yy in y_train],\n",
    "    marker='.', s=50)\n",
    "plt.show()"
   ]
  },
  {
   "cell_type": "code",
   "execution_count": null,
   "metadata": {
    "is_executing": true
   },
   "outputs": [],
   "source": [
    "plt.scatter(\n",
    "    pipeline.transform(X_test[:,0]), pipeline.transform(X_test[:,1]), \n",
    "    color=[colors[yy] for yy in prediction],\n",
    "    marker='.', s=50)\n",
    "plt.show()"
   ]
  },
  {
   "cell_type": "code",
   "execution_count": null,
   "metadata": {
    "is_executing": true
   },
   "outputs": [],
   "source": [
    "plt.scatter(\n",
    "    pipeline.transform(X_test[:,0]), pipeline.transform(X_test[:,1]), \n",
    "    color=[colors[yy] for yy in y_test],\n",
    "    marker='.', s=20)\n",
    "plt.show()"
   ]
  },
  {
   "cell_type": "markdown",
   "metadata": {},
   "source": [
    "## Comparison to theoretical results"
   ]
  },
  {
   "cell_type": "code",
   "execution_count": null,
   "metadata": {
    "is_executing": true
   },
   "outputs": [],
   "source": [
    "_X_train = pipeline.transform(X_train)\n",
    "_X_test = pipeline.transform(X_test)\n",
    "\n",
    "for i in range(len(_X_test)):\n",
    "    p_acc_theory = QmlHadamardNeighborClassifier.p_acc_theory(X_train, y_train, X_test[i])\n",
    "    print(f\"{qml.last_predict_p_acc[i]:.4f} ~~ {p_acc_theory:.4f}\")"
   ]
  },
  {
   "cell_type": "code",
   "execution_count": null,
   "metadata": {
    "is_executing": true
   },
   "outputs": [],
   "source": [
    "for i in range(len(X_test)):\n",
    "    p_label_theory = QmlHadamardNeighborClassifier.p_label_theory(X_train, y_train, X_test[i], prediction[i])\n",
    "    print(f\"{qml.last_predict_probability[i]:.4f} ~~ {p_label_theory:.4f}\")"
   ]
  },
  {
   "cell_type": "code",
   "execution_count": null,
   "metadata": {
    "is_executing": true
   },
   "outputs": [],
   "source": [
    "print(qml._last_predict_circuits[0].qasm())"
   ]
  }
 ],
 "metadata": {
  "kernelspec": {
   "display_name": "Python 3",
   "language": "python",
   "name": "python3"
  },
  "language_info": {
   "codemirror_mode": {
    "name": "ipython",
    "version": 3
   },
   "file_extension": ".py",
   "mimetype": "text/x-python",
   "name": "python",
   "nbconvert_exporter": "python",
   "pygments_lexer": "ipython3",
   "version": "3.6.4"
  },
  "pycharm": {
   "stem_cell": {
    "cell_type": "raw",
    "source": [],
    "metadata": {
     "collapsed": false
    }
   }
  }
 },
 "nbformat": 4,
 "nbformat_minor": 2
}
