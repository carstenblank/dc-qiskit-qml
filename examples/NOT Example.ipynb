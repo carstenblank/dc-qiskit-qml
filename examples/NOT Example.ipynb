{
 "cells": [
  {
   "cell_type": "markdown",
   "metadata": {},
   "source": [
    "# NOT-Example \n",
    "## Finally some Code!"
   ]
  },
  {
   "cell_type": "code",
   "execution_count": 1,
   "metadata": {
    "pycharm": {
     "is_executing": false
    }
   },
   "outputs": [],
   "source": [
    "import qiskit\n",
    "from qiskit.providers import BaseBackend"
   ]
  },
  {
   "cell_type": "code",
   "execution_count": 2,
   "metadata": {
    "pycharm": {
     "is_executing": false
    }
   },
   "outputs": [],
   "source": [
    "import numpy as np\n",
    "\n",
    "X_train = np.asarray([[1.0, 1.0], [-1.0, 1.0], [-1.0, -1.0], [1.0, -1.0]])\n",
    "y_train = [0, 1, 0, 1]\n",
    "\n",
    "X_test = np.asarray([[0.2, 0.4], [0.4, -0.8]])\n",
    "y_test = [0, 1]"
   ]
  },
  {
   "cell_type": "code",
   "execution_count": 3,
   "metadata": {
    "pycharm": {
     "is_executing": false
    }
   },
   "outputs": [
    {
     "data": {
      "text/plain": "<Figure size 432x288 with 1 Axes>",
      "image/png": "[encoded data removed]"
     },
     "metadata": {
      "needs_background": "light"
     },
     "output_type": "display_data"
    }
   ],
   "source": [
    "import matplotlib.pyplot as plt\n",
    "\n",
    "plt.scatter(\n",
    "    X_train[:,0], X_train[:,1], \n",
    "    color=['red' if yy == 0 else 'blue' for yy in y_train],\n",
    "    marker='x', s=200)\n",
    "plt.scatter(\n",
    "    X_test[:,0], X_test[:,1], \n",
    "    color=['red' if yy == 0 else 'blue' for yy in y_test],\n",
    "    marker='o', s=200)\n",
    "plt.hlines(0.0, -1.0, 1.0)\n",
    "plt.vlines(0.0, -1.0, 1.0)\n",
    "plt.show()"
   ]
  },
  {
   "cell_type": "code",
   "execution_count": 4,
   "metadata": {
    "pycharm": {
     "is_executing": false
    }
   },
   "outputs": [],
   "source": [
    "from dc_qiskit_qml.encoding_maps import EncodingMap\n",
    "import scipy.sparse as sparse\n",
    "\n",
    "\n",
    "class MyEncodingMap(EncodingMap):\n",
    "        def map(self, input_vector: list) -> sparse.dok_matrix:\n",
    "            result = sparse.dok_matrix((4,1))\n",
    "            index = 0\n",
    "            if input_vector[0] > 0 and input_vector[1] > 0:\n",
    "                index = 0\n",
    "            if input_vector[0] < 0 < input_vector[1]:\n",
    "                index = 1\n",
    "            if input_vector[0] < 0 and input_vector[1] < 0:\n",
    "                index = 2\n",
    "            if input_vector[0] > 0 > input_vector[1]:\n",
    "                index = 3\n",
    "            result[index, 0] = 1.0\n",
    "            return result\n",
    "\n",
    "\n",
    "encoding_map = MyEncodingMap()"
   ]
  },
  {
   "cell_type": "markdown",
   "metadata": {},
   "source": [
    "Transforming the training samples"
   ]
  },
  {
   "cell_type": "code",
   "execution_count": 5,
   "metadata": {
    "pycharm": {
     "is_executing": false
    }
   },
   "outputs": [
    {
     "data": {
      "text/plain": "[(array([1., 1.]), dict_keys([(0, 0)])),\n (array([-1.,  1.]), dict_keys([(1, 0)])),\n (array([-1., -1.]), dict_keys([(2, 0)])),\n (array([ 1., -1.]), dict_keys([(3, 0)]))]"
     },
     "metadata": {},
     "output_type": "execute_result",
     "execution_count": 5
    }
   ],
   "source": [
    "list(zip(X_train, [encoding_map.map(x).keys() for x in X_train]))"
   ]
  },
  {
   "cell_type": "markdown",
   "metadata": {},
   "source": [
    "Transforming the test samples"
   ]
  },
  {
   "cell_type": "code",
   "execution_count": 6,
   "metadata": {
    "pycharm": {
     "is_executing": false
    }
   },
   "outputs": [
    {
     "data": {
      "text/plain": "[(array([0.2, 0.4]), dict_keys([(0, 0)])),\n (array([ 0.4, -0.8]), dict_keys([(3, 0)]))]"
     },
     "metadata": {},
     "output_type": "execute_result",
     "execution_count": 6
    }
   ],
   "source": [
    "list(zip(X_test, [encoding_map.map(x).keys() for x in X_test]))"
   ]
  },
  {
   "cell_type": "markdown",
   "metadata": {},
   "source": [
    "We bestow the CircuitBuilder with the feature map and configure it to use the Toffoli CCX gate"
   ]
  },
  {
   "cell_type": "code",
   "execution_count": 7,
   "metadata": {
    "pycharm": {
     "is_executing": false
    }
   },
   "outputs": [],
   "source": [
    "from dc_qiskit_qml.distance_based.hadamard import QmlHadamardNeighborClassifier\n",
    "from dc_qiskit_qml.distance_based.hadamard.state import QmlBinaryDataStateCircuitBuilder\n",
    "from dc_qiskit_qml.distance_based.hadamard.state.cnot import CCXToffoli\n",
    "\n",
    "initial_state_builder = QmlBinaryDataStateCircuitBuilder(CCXToffoli(), do_optimizations=True)\n",
    "\n",
    "execution_backend: BaseBackend = qiskit.Aer.get_backend('qasm_simulator')\n",
    "qml = QmlHadamardNeighborClassifier(backend=execution_backend,\n",
    "                                    shots=8192,\n",
    "                                    encoding_map=encoding_map,\n",
    "                                    classifier_circuit_factory=initial_state_builder)"
   ]
  },
  {
   "cell_type": "markdown",
   "metadata": {},
   "source": [
    "Finally we \"fit\" the classifier, which means we save all the training samples"
   ]
  },
  {
   "cell_type": "code",
   "execution_count": 8,
   "metadata": {
    "pycharm": {
     "is_executing": false
    }
   },
   "outputs": [
    {
     "data": {
      "text/plain": "([0, 1], [0, 1])"
     },
     "metadata": {},
     "output_type": "execute_result",
     "execution_count": 8
    }
   ],
   "source": [
    "qml.fit(X_train, y_train)\n",
    "qml.predict(X_test), y_test"
   ]
  },
  {
   "cell_type": "markdown",
   "metadata": {},
   "source": [
    "# On the real processor"
   ]
  },
  {
   "cell_type": "code",
   "execution_count": 16,
   "metadata": {
    "pycharm": {
     "is_executing": false
    }
   },
   "outputs": [
    {
     "name": "stderr",
     "text": [
      "/home/carsten/Documents/github/dc-qiskit-qml/venv/lib/python3.6/site-packages/qiskit/providers/ibmq/ibmqfactory.py:181: UserWarning: Credentials are already in use. The existing account in the session will be replaced.\n  warnings.warn('Credentials are already in use. The existing '\n"
     ],
     "output_type": "stream"
    },
    {
     "data": {
      "text/plain": "<AccountProvider for IBMQ(hub='ibm-q', group='open', project='main')>"
     },
     "metadata": {},
     "output_type": "execute_result",
     "execution_count": 16
    }
   ],
   "source": [
    "qiskit.IBMQ.load_account()"
   ]
  },
  {
   "cell_type": "code",
   "execution_count": 18,
   "metadata": {
    "pycharm": {
     "is_executing": false
    }
   },
   "outputs": [
    {
     "data": {
      "text/plain": "[<IBMQSimulator('ibmq_qasm_simulator') from IBMQ(hub='ibm-q', group='open', project='main')>,\n <IBMQBackend('ibmqx2') from IBMQ(hub='ibm-q', group='open', project='main')>,\n <IBMQBackend('ibmq_16_melbourne') from IBMQ(hub='ibm-q', group='open', project='main')>,\n <IBMQBackend('ibmq_vigo') from IBMQ(hub='ibm-q', group='open', project='main')>,\n <IBMQBackend('ibmq_ourense') from IBMQ(hub='ibm-q', group='open', project='main')>]"
     },
     "metadata": {},
     "output_type": "execute_result",
     "execution_count": 18
    }
   ],
   "source": [
    "qiskit.IBMQ.get_provider().backends()"
   ]
  },
  {
   "cell_type": "code",
   "execution_count": 19,
   "metadata": {
    "pycharm": {
     "is_executing": false
    }
   },
   "outputs": [
    {
     "data": {
      "text/plain": "[<QasmSimulator('qasm_simulator') from AerProvider()>,\n <StatevectorSimulator('statevector_simulator') from AerProvider()>,\n <UnitarySimulator('unitary_simulator') from AerProvider()>]"
     },
     "metadata": {},
     "output_type": "execute_result",
     "execution_count": 19
    }
   ],
   "source": [
    "qiskit.Aer.backends()"
   ]
  },
  {
   "cell_type": "code",
   "execution_count": 20,
   "metadata": {
    "pycharm": {
     "is_executing": false
    }
   },
   "outputs": [
    {
     "data": {
      "text/plain": "BackendStatus(backend_name='ibmq_16_melbourne', backend_version='1.0.0', operational=True, pending_jobs=0, status_msg='active')"
     },
     "metadata": {},
     "output_type": "execute_result",
     "execution_count": 20
    }
   ],
   "source": [
    "b16 = qiskit.IBMQ.get_provider().get_backend('ibmq_16_melbourne')\n",
    "b16.status()"
   ]
  },
  {
   "cell_type": "markdown",
   "metadata": {},
   "source": [
    "## The classification"
   ]
  },
  {
   "cell_type": "code",
   "execution_count": 21,
   "metadata": {
    "pycharm": {
     "is_executing": false
    }
   },
   "outputs": [
    {
     "name": "stderr",
     "text": [
      "/home/carsten/Documents/github/dc-qiskit-qml/venv/lib/python3.6/site-packages/qiskit/providers/ibmq/ibmqfactory.py:595: DeprecationWarning: IBMQ.get_backend() is being deprecated. Please use IBMQ.get_provider() to retrieve a provider and AccountProvider.get_backend(\"name\") to retrieve a backend.\n  DeprecationWarning)\n"
     ],
     "output_type": "stream"
    }
   ],
   "source": [
    "execution_backend: BaseBackend = b16\n",
    "qml = QmlHadamardNeighborClassifier(backend=execution_backend,\n",
    "                                    shots=8192,\n",
    "                                    encoding_map=encoding_map,\n",
    "                                    classifier_circuit_factory=initial_state_builder)\n",
    "qml.fit(X_train, y_train)\n",
    "async_qml_job = qml.predict_async(X_test)"
   ]
  },
  {
   "cell_type": "code",
   "execution_count": 23,
   "metadata": {
    "pycharm": {
     "is_executing": false
    }
   },
   "outputs": [
    {
     "data": {
      "text/plain": "(<JobStatus.DONE: 'job has successfully run'>, '5da3131b2580ab0018a47b3c')"
     },
     "metadata": {},
     "output_type": "execute_result",
     "execution_count": 23
    }
   ],
   "source": [
    "async_qml_job.job.status(), async_qml_job.job.job_id()"
   ]
  },
  {
   "cell_type": "code",
   "execution_count": 24,
   "metadata": {
    "pycharm": {
     "is_executing": false
    }
   },
   "outputs": [
    {
     "data": {
      "text/plain": "([0, 0], [0, 1])"
     },
     "metadata": {},
     "output_type": "execute_result",
     "execution_count": 24
    }
   ],
   "source": [
    "async_qml_job.predict_result(), y_test"
   ]
  },
  {
   "cell_type": "code",
   "execution_count": 25,
   "metadata": {
    "pycharm": {
     "is_executing": false
    }
   },
   "outputs": [
    {
     "data": {
      "text/plain": "([0.7269992479318125, 0.7580496780128795], [0.4869384765625, 0.53076171875])"
     },
     "metadata": {},
     "output_type": "execute_result",
     "execution_count": 25
    }
   ],
   "source": [
    "qml.last_predict_probability, qml.last_predict_p_acc"
   ]
  },
  {
   "cell_type": "code",
   "execution_count": 26,
   "metadata": {
    "pycharm": {
     "is_executing": false
    }
   },
   "outputs": [
    {
     "data": {
      "text/plain": "<Figure size 1769.88x1288.28 with 1 Axes>",
      "image/png": "[encoded data removed]"
     },
     "metadata": {},
     "output_type": "execute_result",
     "execution_count": 26
    }
   ],
   "source": [
    "qml._last_predict_circuits[0].draw(output='mpl')"
   ]
  },
  {
   "cell_type": "markdown",
   "metadata": {},
   "source": [
    "# Möttönen Based CCX routine"
   ]
  },
  {
   "cell_type": "code",
   "execution_count": 27,
   "metadata": {
    "pycharm": {
     "is_executing": false
    }
   },
   "outputs": [],
   "source": [
    "from dc_qiskit_qml.distance_based.hadamard.state.cnot import CCXMöttönen\n",
    "\n",
    "initial_state_builder = QmlBinaryDataStateCircuitBuilder(CCXMöttönen())\n",
    "\n",
    "execution_backend: BaseBackend = qiskit.Aer.get_backend('qasm_simulator')\n",
    "qml = QmlHadamardNeighborClassifier(backend=execution_backend,\n",
    "                                    shots=8192,\n",
    "                                    encoding_map=encoding_map,\n",
    "                                    classifier_circuit_factory=initial_state_builder)"
   ]
  },
  {
   "cell_type": "code",
   "execution_count": 28,
   "metadata": {
    "pycharm": {
     "is_executing": false
    }
   },
   "outputs": [
    {
     "data": {
      "text/plain": "([0, 1], [0, 1])"
     },
     "metadata": {},
     "output_type": "execute_result",
     "execution_count": 28
    }
   ],
   "source": [
    "qml.fit(X_train, y_train)\n",
    "qml.predict(X_test), y_test"
   ]
  },
  {
   "cell_type": "code",
   "execution_count": 29,
   "metadata": {
    "pycharm": {
     "is_executing": false
    }
   },
   "outputs": [
    {
     "data": {
      "text/plain": "<Figure size 1502.59x505.68 with 1 Axes>",
      "image/png": "[encoded data removed]"
     },
     "metadata": {},
     "output_type": "execute_result",
     "execution_count": 29
    }
   ],
   "source": [
    "qml._last_predict_circuits[0].draw(output='mpl')"
   ]
  },
  {
   "cell_type": "markdown",
   "metadata": {},
   "source": [
    "## On the real chip"
   ]
  },
  {
   "cell_type": "code",
   "execution_count": 30,
   "metadata": {
    "pycharm": {
     "is_executing": false
    }
   },
   "outputs": [],
   "source": [
    "execution_backend: BaseBackend = b16\n",
    "qml = QmlHadamardNeighborClassifier(backend=execution_backend,\n",
    "                                    shots=8192,\n",
    "                                    encoding_map=encoding_map,\n",
    "                                    classifier_circuit_factory=initial_state_builder)"
   ]
  },
  {
   "cell_type": "code",
   "execution_count": 31,
   "metadata": {
    "pycharm": {
     "is_executing": false
    }
   },
   "outputs": [
    {
     "data": {
      "text/plain": "(<JobStatus.DONE: 'job has successfully run'>, '5da3131b2580ab0018a47b3c')"
     },
     "metadata": {},
     "output_type": "execute_result",
     "execution_count": 31
    }
   ],
   "source": [
    "qml.fit(X_train, y_train)\n",
    "async_qml_job.job.status(), async_qml_job.job.job_id()"
   ]
  },
  {
   "cell_type": "code",
   "execution_count": 32,
   "metadata": {
    "pycharm": {
     "is_executing": false
    }
   },
   "outputs": [
    {
     "data": {
      "text/plain": "([], [])"
     },
     "metadata": {},
     "output_type": "execute_result",
     "execution_count": 32
    }
   ],
   "source": [
    "qml.last_predict_probability, qml.last_predict_p_acc"
   ]
  }
 ],
 "metadata": {
  "kernelspec": {
   "display_name": "Python 3",
   "language": "python",
   "name": "python3"
  },
  "language_info": {
   "codemirror_mode": {
    "name": "ipython",
    "version": 3
   },
   "file_extension": ".py",
   "mimetype": "text/x-python",
   "name": "python",
   "nbconvert_exporter": "python",
   "pygments_lexer": "ipython3",
   "version": "3.6.4"
  },
  "pycharm": {
   "stem_cell": {
    "cell_type": "raw",
    "source": [],
    "metadata": {
     "collapsed": false
    }
   }
  }
 },
 "nbformat": 4,
 "nbformat_minor": 2
}