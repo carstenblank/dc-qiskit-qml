{
 "cells": [
  {
   "cell_type": "markdown",
   "metadata": {},
   "source": [
    "# NOT-Example \n",
    "## Finally some Code!"
   ]
  },
  {
   "cell_type": "code",
   "execution_count": 1,
   "metadata": {},
   "outputs": [
    {
     "name": "stderr",
     "output_type": "stream",
     "text": [
      "C:\\Users\\cncen\\Anaconda3\\lib\\site-packages\\marshmallow\\schema.py:364: ChangedInMarshmallow3Warning: strict=False is not recommended. In marshmallow 3.0, schemas will always be strict. See https://marshmallow.readthedocs.io/en/latest/upgrading.html#schemas-are-always-strict\n",
      "  ChangedInMarshmallow3Warning\n"
     ]
    }
   ],
   "source": [
    "import qiskit\n",
    "from qiskit.providers import BaseBackend\n",
    "from qiskit.providers.ibmq import IBMQBackend\n",
    "\n",
    "import os\n",
    "qiskit.IBMQ.enable_account(os.getenv(\"IBMQX_TOKEN\"))\n",
    "ibmq5: BaseBackend = qiskit.IBMQ.get_backend('ibmq_16_melbourne')"
   ]
  },
  {
   "cell_type": "code",
   "execution_count": 2,
   "metadata": {},
   "outputs": [
    {
     "ename": "ModuleNotFoundError",
     "evalue": "No module named 'dc_qiskit_qml'",
     "output_type": "error",
     "traceback": [
      "\u001b[1;31m---------------------------------------------------------------------------\u001b[0m",
      "\u001b[1;31mModuleNotFoundError\u001b[0m                       Traceback (most recent call last)",
      "\u001b[1;32m<ipython-input-2-10c6609261ec>\u001b[0m in \u001b[0;36m<module>\u001b[1;34m\u001b[0m\n\u001b[0;32m      7\u001b[0m \u001b[0my_test\u001b[0m \u001b[1;33m=\u001b[0m \u001b[1;33m[\u001b[0m\u001b[1;36m0\u001b[0m\u001b[1;33m,\u001b[0m \u001b[1;36m1\u001b[0m\u001b[1;33m]\u001b[0m\u001b[1;33m\u001b[0m\u001b[1;33m\u001b[0m\u001b[0m\n\u001b[0;32m      8\u001b[0m \u001b[1;33m\u001b[0m\u001b[0m\n\u001b[1;32m----> 9\u001b[1;33m \u001b[1;32mfrom\u001b[0m \u001b[0mdc_qiskit_qml\u001b[0m\u001b[1;33m.\u001b[0m\u001b[0mfeature_maps\u001b[0m \u001b[1;32mimport\u001b[0m \u001b[0mFeatureMap\u001b[0m\u001b[1;33m\u001b[0m\u001b[1;33m\u001b[0m\u001b[0m\n\u001b[0m\u001b[0;32m     10\u001b[0m \u001b[1;32mimport\u001b[0m \u001b[0mscipy\u001b[0m\u001b[1;33m.\u001b[0m\u001b[0msparse\u001b[0m \u001b[1;32mas\u001b[0m \u001b[0msparse\u001b[0m\u001b[1;33m\u001b[0m\u001b[1;33m\u001b[0m\u001b[0m\n\u001b[0;32m     11\u001b[0m \u001b[1;33m\u001b[0m\u001b[0m\n",
      "\u001b[1;31mModuleNotFoundError\u001b[0m: No module named 'dc_qiskit_qml'"
     ]
    }
   ],
   "source": [
    "import numpy as np\n",
    "\n",
    "X_train = np.asarray([[1.0, 1.0], [-1.0, 1.0], [-1.0, -1.0], [1.0, -1.0]])\n",
    "y_train = [0, 1, 0, 1]\n",
    "\n",
    "X_test = np.asarray([[0.2, 0.4], [0.4, -0.8]])\n",
    "y_test = [0, 1]\n",
    "\n",
    "from dc_qiskit_qml.feature_maps import FeatureMap\n",
    "import scipy.sparse as sparse\n",
    "\n",
    "\n",
    "class MyFeatureMap(FeatureMap):\n",
    "        def map(self, input_vector: list) -> sparse.dok_matrix:\n",
    "            result = sparse.dok_matrix((4,1))\n",
    "            index = 0\n",
    "            if input_vector[0] > 0 and input_vector[1] > 0:\n",
    "                index = 0\n",
    "            if input_vector[0] < 0 < input_vector[1]:\n",
    "                index = 1\n",
    "            if input_vector[0] < 0 and input_vector[1] < 0:\n",
    "                index = 2\n",
    "            if input_vector[0] > 0 > input_vector[1]:\n",
    "                index = 3\n",
    "            result[index, 0] = 1.0\n",
    "            return result\n",
    "\n",
    "\n",
    "feature_map = MyFeatureMap()"
   ]
  },
  {
   "cell_type": "code",
   "execution_count": null,
   "metadata": {},
   "outputs": [],
   "source": [
    "import matplotlib.pyplot as plt\n",
    "\n",
    "plt.scatter(\n",
    "    X_train[:,0], X_train[:,1], \n",
    "    color=['red' if yy == 0 else 'blue' for yy in y_train],\n",
    "    marker='x', s=200)\n",
    "plt.scatter(\n",
    "    X_test[:,0], X_test[:,1], \n",
    "    color=['red' if yy == 0 else 'blue' for yy in y_test],\n",
    "    marker='o', s=200)\n",
    "plt.hlines(0.0, -1.0, 1.0)\n",
    "plt.vlines(0.0, -1.0, 1.0)\n",
    "plt.show()"
   ]
  },
  {
   "cell_type": "code",
   "execution_count": null,
   "metadata": {},
   "outputs": [],
   "source": [
    "from dc_qiskit_qml.distance_based.hadamard import QmlHadamardNeighborClassifier\n",
    "from dc_qiskit_qml.distance_based.hadamard.state import QmlBinaryDataStateCircuitBuilder\n",
    "from dc_qiskit_qml.distance_based.hadamard.state.cnot import CCXToffoli\n",
    "\n",
    "initial_state_builder = QmlBinaryDataStateCircuitBuilder(CCXToffoli(), do_optimizations=False)\n",
    "\n",
    "execution_backend: BaseBackend = qiskit.Aer.get_backend('qasm_simulator')\n",
    "qml = QmlHadamardNeighborClassifier(backend=execution_backend,\n",
    "                                    shots=8192,\n",
    "                                    feature_map=feature_map,\n",
    "                                    classifier_circuit_factory=initial_state_builder)\n",
    "\n",
    "qml.fit(X_train, y_train)\n",
    "qml.predict(X_test), y_test"
   ]
  },
  {
   "cell_type": "code",
   "execution_count": null,
   "metadata": {},
   "outputs": [],
   "source": [
    "qml._last_predict_circuits[0].draw(output='mpl')"
   ]
  },
  {
   "cell_type": "code",
   "execution_count": null,
   "metadata": {},
   "outputs": [],
   "source": [
    "initial_state_builder = QmlBinaryDataStateCircuitBuilder(CCXToffoli(), do_optimizations=True)\n",
    "\n",
    "execution_backend: BaseBackend = qiskit.Aer.get_backend('qasm_simulator')\n",
    "qml = QmlHadamardNeighborClassifier(backend=execution_backend,\n",
    "                                    shots=8192,\n",
    "                                    feature_map=feature_map,\n",
    "                                    classifier_circuit_factory=initial_state_builder)\n",
    "\n",
    "qml.fit(X_train, y_train)\n",
    "qml.predict(X_test), y_test"
   ]
  },
  {
   "cell_type": "code",
   "execution_count": null,
   "metadata": {},
   "outputs": [],
   "source": [
    "qml._last_predict_circuits[0].draw(output='mpl')"
   ]
  },
  {
   "cell_type": "code",
   "execution_count": null,
   "metadata": {},
   "outputs": [],
   "source": [
    "qobj = qiskit.compile(qml._last_predict_circuits[0], backend=ibmq5)"
   ]
  },
  {
   "cell_type": "code",
   "execution_count": 3,
   "metadata": {},
   "outputs": [
    {
     "ename": "NameError",
     "evalue": "name 'qobj' is not defined",
     "output_type": "error",
     "traceback": [
      "\u001b[1;31m---------------------------------------------------------------------------\u001b[0m",
      "\u001b[1;31mNameError\u001b[0m                                 Traceback (most recent call last)",
      "\u001b[1;32m<ipython-input-3-2ebebbbc2478>\u001b[0m in \u001b[0;36m<module>\u001b[1;34m\u001b[0m\n\u001b[0;32m      1\u001b[0m \u001b[1;32mfrom\u001b[0m \u001b[0mqiskit\u001b[0m\u001b[1;33m.\u001b[0m\u001b[0mconverters\u001b[0m \u001b[1;32mimport\u001b[0m \u001b[0mcircuit_to_dag\u001b[0m\u001b[1;33m,\u001b[0m \u001b[0mdag_to_circuit\u001b[0m\u001b[1;33m,\u001b[0m \u001b[0mqobj_to_circuits\u001b[0m\u001b[1;33m\u001b[0m\u001b[1;33m\u001b[0m\u001b[0m\n\u001b[1;32m----> 2\u001b[1;33m \u001b[0mprint\u001b[0m\u001b[1;33m(\u001b[0m\u001b[1;34m\"Number of gates: {}.\\n\"\u001b[0m\u001b[1;33m.\u001b[0m\u001b[0mformat\u001b[0m\u001b[1;33m(\u001b[0m\u001b[0mlen\u001b[0m\u001b[1;33m(\u001b[0m\u001b[0mqobj_to_circuits\u001b[0m\u001b[1;33m(\u001b[0m\u001b[0mqobj\u001b[0m\u001b[1;33m)\u001b[0m\u001b[1;33m[\u001b[0m\u001b[1;36m0\u001b[0m\u001b[1;33m]\u001b[0m\u001b[1;33m.\u001b[0m\u001b[0mdata\u001b[0m\u001b[1;33m)\u001b[0m\u001b[1;33m)\u001b[0m\u001b[1;33m)\u001b[0m\u001b[1;33m\u001b[0m\u001b[1;33m\u001b[0m\u001b[0m\n\u001b[0m\u001b[0;32m      3\u001b[0m \u001b[1;31m# print(qobj_to_circuits(qobj)[0].qasm())\u001b[0m\u001b[1;33m\u001b[0m\u001b[1;33m\u001b[0m\u001b[1;33m\u001b[0m\u001b[0m\n\u001b[0;32m      4\u001b[0m \u001b[0mqobj_to_circuits\u001b[0m\u001b[1;33m(\u001b[0m\u001b[0mqobj\u001b[0m\u001b[1;33m)\u001b[0m\u001b[1;33m[\u001b[0m\u001b[1;36m0\u001b[0m\u001b[1;33m]\u001b[0m\u001b[1;33m.\u001b[0m\u001b[0mdraw\u001b[0m\u001b[1;33m(\u001b[0m\u001b[0mline_length\u001b[0m\u001b[1;33m=\u001b[0m\u001b[1;36m120\u001b[0m\u001b[1;33m)\u001b[0m\u001b[1;33m\u001b[0m\u001b[1;33m\u001b[0m\u001b[0m\n",
      "\u001b[1;31mNameError\u001b[0m: name 'qobj' is not defined"
     ]
    }
   ],
   "source": [
    "from qiskit.converters import circuit_to_dag, dag_to_circuit, qobj_to_circuits\n",
    "print(\"Number of gates: {}.\\n\".format(len(qobj_to_circuits(qobj)[0].data)))\n",
    "# print(qobj_to_circuits(qobj)[0].qasm())\n",
    "qobj_to_circuits(qobj)[0].draw(line_length=120)"
   ]
  }
 ],
 "metadata": {
  "kernelspec": {
   "display_name": "Python 3",
   "language": "python",
   "name": "python3"
  },
  "language_info": {
   "codemirror_mode": {
    "name": "ipython",
    "version": 3
   },
   "file_extension": ".py",
   "mimetype": "text/x-python",
   "name": "python",
   "nbconvert_exporter": "python",
   "pygments_lexer": "ipython3",
   "version": "3.6.7"
  }
 },
 "nbformat": 4,
 "nbformat_minor": 2
}
